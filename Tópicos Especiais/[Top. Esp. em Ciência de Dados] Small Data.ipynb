{
 "cells": [
  {
   "cell_type": "code",
   "execution_count": 28,
   "metadata": {},
   "outputs": [],
   "source": [
    "import pandas as pd\n",
    "import numpy as np\n",
    "import pymc3 as pm\n",
    "import theano.tensor as tt\n",
    "import arviz as az\n",
    "import matplotlib.pyplot as plt\n",
    "import seaborn as sns\n",
    "from scipy.special import expit\n",
    "from IPython.core.pylabtools import figsize"
   ]
  },
  {
   "cell_type": "markdown",
   "metadata": {},
   "source": [
    "# *Small Data*\n",
    "## Ciência de Dados com ênfase em Business Intelligence\n",
    "## Tópicos Especiais\n",
    "### Prof. Gabriel Mendonça, M.Sc.\n",
    "\n",
    "*************\n",
    "\n",
    "<img src=\"https://encrypted-tbn0.gstatic.com/images?q=tbn%3AANd9GcRGTjEK1uEK9wpxqxMts9Fs4mp1EYHgH_r7lUClP2FDpOHY9T6D\" width=\"500\">\n",
    "\n",
    "*************"
   ]
  },
  {
   "cell_type": "markdown",
   "metadata": {},
   "source": [
    "# Big x Small Data\n",
    "\n",
    "*************\n",
    "\n",
    "<img src=\"https://encrypted-tbn0.gstatic.com/images?q=tbn%3AANd9GcR9cOYdQ1zbMFsCeCL88JYgzSSKzIyNAkCgJUI_SLRC5O7qxtIV\" width=\"500\">\n",
    "\n",
    "*************\n",
    "\n",
    "### Big Data\n",
    "- Grande volume de dados (milhões de amostras)\n",
    "- Algoritmos *simples*\n",
    "- Grande preocupação com eficiência\n",
    "- Análise em (quase) tempo real\n",
    "- Caixas pretas\n",
    "\n",
    "### *Small* Data\n",
    "- Poucos dados (dezenas, centenas)\n",
    "- Algoritmos mais espertos\n",
    "- Eficiência não é problema\n",
    "- Análise \"histórica\"\n",
    "- \"Caixa branca\""
   ]
  },
  {
   "cell_type": "markdown",
   "metadata": {},
   "source": [
    "![title](img/titulo.png)"
   ]
  },
  {
   "cell_type": "markdown",
   "metadata": {},
   "source": [
    "# Conceitos\n",
    "## Evento\n",
    "\n",
    "> \"In probability theory, an event is a set of outcomes of an experiment (a subset of the sample space) to which a probability is assigned.\"\n",
    "\n",
    "> Leon-Garcia, Alberto (2008). Probability, statistics and random processes for electrical engineering. Upper Saddle River, NJ: Pearson."
   ]
  },
  {
   "cell_type": "markdown",
   "metadata": {},
   "source": [
    "## Variável Aleatória\n",
    "> \"In probability and statistics, a random variable is described informally as a variable whose values depend on outcomes of a random phenomenon (event).\"\n",
    "\n",
    "> Blitzstein, Joe; Hwang, Jessica (2014). Introduction to Probability. CRC Press. ISBN 9781466575592.\n",
    "\n",
    "### Discreta\n",
    "\n",
    "![dice](https://upload.wikimedia.org/wikipedia/commons/thumb/a/a5/6sided_dice.jpg/400px-6sided_dice.jpg)\n",
    "\n",
    "******\n",
    "\n",
    "### Contínua\n",
    "![real_number](https://upload.wikimedia.org/wikipedia/commons/thumb/d/d7/Real_number_line.svg/689px-Real_number_line.svg.png)"
   ]
  },
  {
   "cell_type": "markdown",
   "metadata": {},
   "source": [
    "## Distribuição\n",
    "Atribui probabilidades de ocorrência aos possíveis valores de uma variável aleatória.\n",
    "\n",
    "- Discreta\n",
    "  - *Probability Mass Function* (PMF)\n",
    "\n",
    "- Contínua\n",
    "  - *Probability Density Function* (PDF)\n",
    "\n",
    "#### Dado de 6 faces\n",
    "$Pr[X = 1] = Pr[X = 2] = Pr[X = 3] = Pr[X = 4] = Pr[X = 5] = Pr[X = 6] = \\frac{1}{6}$\n",
    "\n",
    "$Pr[X \\leq 3] = \\frac{3}{6} = \\frac{1}{2}$"
   ]
  },
  {
   "cell_type": "markdown",
   "metadata": {},
   "source": [
    "# Problema\n",
    "Você joga uma moeda 4 vezes e tira 4 caras. Qual a chance de isso acontecer?"
   ]
  },
  {
   "cell_type": "code",
   "execution_count": 88,
   "metadata": {},
   "outputs": [
    {
     "data": {
      "text/plain": [
       "0.0625"
      ]
     },
     "execution_count": 88,
     "metadata": {},
     "output_type": "execute_result"
    }
   ],
   "source": [
    "0.5**4"
   ]
  },
  {
   "cell_type": "markdown",
   "metadata": {},
   "source": [
    "Como calcular a probabilidade de tirar cara?"
   ]
  },
  {
   "cell_type": "code",
   "execution_count": 103,
   "metadata": {},
   "outputs": [],
   "source": [
    "import numpy as np"
   ]
  },
  {
   "cell_type": "code",
   "execution_count": 104,
   "metadata": {},
   "outputs": [],
   "source": [
    "np.random.binomial?"
   ]
  },
  {
   "cell_type": "code",
   "execution_count": 110,
   "metadata": {},
   "outputs": [],
   "source": [
    "N = np.random.binomial(4, p=0.7, size=1000)"
   ]
  },
  {
   "cell_type": "code",
   "execution_count": 109,
   "metadata": {},
   "outputs": [
    {
     "data": {
      "text/plain": [
       "1.0"
      ]
     },
     "execution_count": 109,
     "metadata": {},
     "output_type": "execute_result"
    }
   ],
   "source": [
    "np.mean(N == 4)"
   ]
  },
  {
   "cell_type": "code",
   "execution_count": 107,
   "metadata": {},
   "outputs": [
    {
     "data": {
      "text/plain": [
       "0.062"
      ]
     },
     "execution_count": 107,
     "metadata": {},
     "output_type": "execute_result"
    }
   ],
   "source": [
    "np.mean(N == 4)"
   ]
  },
  {
   "cell_type": "code",
   "execution_count": 111,
   "metadata": {},
   "outputs": [
    {
     "data": {
      "text/plain": [
       "0.231"
      ]
     },
     "execution_count": 111,
     "metadata": {},
     "output_type": "execute_result"
    }
   ],
   "source": [
    "np.mean(N == 4)"
   ]
  },
  {
   "cell_type": "markdown",
   "metadata": {},
   "source": [
    "# Inferência Bayesiana\n",
    "\n",
    "> **\"Bayesian inference is simply updating your beliefs after considering new evidence.\"**\n",
    "\n",
    "*Probabilistic Programming and Bayesian Methods for Hackers*, Cam Davidson-Pilon\n",
    "\n",
    "***\n",
    "\n",
    "## Conceitos\n",
    "\n",
    "### Amostra\n",
    "\n",
    "> O que eu observo, meço, coleto\n",
    "\n",
    "### Parâmetro\n",
    "\n",
    "> O que eu quero prever, inferir, estimar"
   ]
  },
  {
   "cell_type": "markdown",
   "metadata": {},
   "source": [
    "## *Likelihood* (Verossimilhança)\n",
    "\n",
    "> Probabilidade (chance) de sua **amostra** $X$ ser igual a um determinado valor **dado** um certo **parâmetro** $\\theta$\n",
    "\n",
    "\\begin{equation*}\n",
    "Pr(X = x \\mid \\theta)\n",
    "\\end{equation*}\n",
    "\n",
    "- Obtido a partir dos meus dados\n",
    "- Para uma moeda:\n",
    "\n",
    "\\begin{equation*}\n",
    "Pr(\\text{\"Cara\"} \\mid p = 0,5) = 0,5\n",
    "\\end{equation*}"
   ]
  },
  {
   "cell_type": "markdown",
   "metadata": {},
   "source": [
    "## *Prior* (Probabilidade *a priori*)\n",
    "\n",
    "> Probabilidade (chance) de seu **parâmetro** $\\theta$ ser igual a um determinado valor\n",
    "\n",
    "\\begin{equation*}\n",
    "Pr(\\theta)\n",
    "\\end{equation*}\n",
    "\n",
    "- **Conhecimento prévio sobre o problema**\n",
    "- Para uma moeda:\n",
    "\n",
    "\\begin{equation*}\n",
    "Pr(p = 0,5) = 1\n",
    "\\end{equation*}"
   ]
  },
  {
   "cell_type": "markdown",
   "metadata": {},
   "source": [
    "## *Posterior* (Probabilidade *a posteriori*)\n",
    "\n",
    "> Probabilidade (chance) de seu **parâmetro** $\\theta$ ser igual a um determinado valor **dada** uma amostra $X$\n",
    "\n",
    "\\begin{equation*}\n",
    "Pr(\\theta \\mid X = x)\n",
    "\\end{equation*}\n",
    "\n",
    "- Representa minha inferência, minha previsão"
   ]
  },
  {
   "cell_type": "markdown",
   "metadata": {},
   "source": [
    "## Teorema de Bayes\n",
    "\n",
    "\\begin{equation*}\n",
    "Pr(A \\mid B) = \\frac{Pr(B \\mid A) \\cdot Pr(A)}{Pr(B)}\n",
    "\\end{equation*}\n",
    "\n",
    "> Permite calcular a *posterior* a partir da *likelihood* e da *prior*\n",
    "\n",
    "\\begin{equation*}\n",
    "Pr(\\theta \\mid X = x) = \\frac{Pr(X = x \\mid \\theta) \\cdot Pr(\\theta)}{\\Pr(X = x)}\n",
    "\\end{equation*}\n",
    "\n",
    "- Podemos inferir algo a partir das **amostras** e de nosso **conhecimento prévio**\n",
    "- Para uma moeda:\n",
    "\n",
    "\\begin{equation*}\n",
    "Pr(p = 0,5 \\mid \\text{\"Cara\"}) = \\frac{Pr(\\text{\"Cara\"} \\mid p=0,5) \\cdot Pr(p=0,5)}{Pr(\\text{\"Cara\"})}\n",
    "\\end{equation*}\n",
    "\n",
    "[Desafio](#Desafio)"
   ]
  },
  {
   "cell_type": "markdown",
   "metadata": {},
   "source": [
    "# Problema (revisado)\n",
    "Você joga uma moeda 4 vezes e tira 4 caras. Qual a chance de isso acontecer?"
   ]
  },
  {
   "cell_type": "code",
   "execution_count": null,
   "metadata": {},
   "outputs": [],
   "source": []
  },
  {
   "cell_type": "markdown",
   "metadata": {},
   "source": [
    "Como calcular a probabilidade de tirar cara?"
   ]
  },
  {
   "cell_type": "code",
   "execution_count": null,
   "metadata": {},
   "outputs": [],
   "source": []
  },
  {
   "cell_type": "markdown",
   "metadata": {},
   "source": [
    "# Exemplo\n",
    "## Recursos Humanos\n",
    "https://www.kaggle.com/pavansubhasht/ibm-hr-analytics-attrition-dataset"
   ]
  },
  {
   "cell_type": "code",
   "execution_count": 29,
   "metadata": {},
   "outputs": [
    {
     "data": {
      "text/html": [
       "<div>\n",
       "<style scoped>\n",
       "    .dataframe tbody tr th:only-of-type {\n",
       "        vertical-align: middle;\n",
       "    }\n",
       "\n",
       "    .dataframe tbody tr th {\n",
       "        vertical-align: top;\n",
       "    }\n",
       "\n",
       "    .dataframe thead th {\n",
       "        text-align: right;\n",
       "    }\n",
       "</style>\n",
       "<table border=\"1\" class=\"dataframe\">\n",
       "  <thead>\n",
       "    <tr style=\"text-align: right;\">\n",
       "      <th></th>\n",
       "      <th>Age</th>\n",
       "      <th>Attrition</th>\n",
       "      <th>Gender</th>\n",
       "      <th>MaritalStatus</th>\n",
       "      <th>MonthlyIncome</th>\n",
       "      <th>OverTime</th>\n",
       "    </tr>\n",
       "  </thead>\n",
       "  <tbody>\n",
       "    <tr>\n",
       "      <td>0</td>\n",
       "      <td>41</td>\n",
       "      <td>Yes</td>\n",
       "      <td>Female</td>\n",
       "      <td>Single</td>\n",
       "      <td>5993</td>\n",
       "      <td>Yes</td>\n",
       "    </tr>\n",
       "    <tr>\n",
       "      <td>1</td>\n",
       "      <td>49</td>\n",
       "      <td>No</td>\n",
       "      <td>Male</td>\n",
       "      <td>Married</td>\n",
       "      <td>5130</td>\n",
       "      <td>No</td>\n",
       "    </tr>\n",
       "    <tr>\n",
       "      <td>2</td>\n",
       "      <td>37</td>\n",
       "      <td>Yes</td>\n",
       "      <td>Male</td>\n",
       "      <td>Single</td>\n",
       "      <td>2090</td>\n",
       "      <td>Yes</td>\n",
       "    </tr>\n",
       "    <tr>\n",
       "      <td>3</td>\n",
       "      <td>33</td>\n",
       "      <td>No</td>\n",
       "      <td>Female</td>\n",
       "      <td>Married</td>\n",
       "      <td>2909</td>\n",
       "      <td>Yes</td>\n",
       "    </tr>\n",
       "    <tr>\n",
       "      <td>4</td>\n",
       "      <td>27</td>\n",
       "      <td>No</td>\n",
       "      <td>Male</td>\n",
       "      <td>Married</td>\n",
       "      <td>3468</td>\n",
       "      <td>No</td>\n",
       "    </tr>\n",
       "  </tbody>\n",
       "</table>\n",
       "</div>"
      ],
      "text/plain": [
       "   Age Attrition  Gender MaritalStatus  MonthlyIncome OverTime\n",
       "0   41       Yes  Female        Single           5993      Yes\n",
       "1   49        No    Male       Married           5130       No\n",
       "2   37       Yes    Male        Single           2090      Yes\n",
       "3   33        No  Female       Married           2909      Yes\n",
       "4   27        No    Male       Married           3468       No"
      ]
     },
     "execution_count": 29,
     "metadata": {},
     "output_type": "execute_result"
    }
   ],
   "source": [
    "cols = ['Age', 'Attrition', 'Gender', 'MaritalStatus', 'OverTime', 'MonthlyIncome']\n",
    "rh = pd.read_csv('WA_Fn-UseC_-HR-Employee-Attrition.csv', usecols=cols)\n",
    "rh.head()"
   ]
  },
  {
   "cell_type": "code",
   "execution_count": 30,
   "metadata": {},
   "outputs": [
    {
     "data": {
      "text/plain": [
       "Index(['Age', 'Attrition', 'Gender', 'MaritalStatus', 'MonthlyIncome',\n",
       "       'OverTime'],\n",
       "      dtype='object')"
      ]
     },
     "execution_count": 30,
     "metadata": {},
     "output_type": "execute_result"
    }
   ],
   "source": [
    "rh.columns"
   ]
  },
  {
   "cell_type": "markdown",
   "metadata": {},
   "source": [
    "# Por que nossos funcionários pedem demissão?\n",
    "# O que podemos fazer para entender?\n",
    "\n",
    "*************\n",
    "\n",
    "<img src=https://storage.needpix.com/rsynced_images/question-mark-1751308_1280.png width=\"250\">\n",
    "\n",
    "*************\n"
   ]
  },
  {
   "cell_type": "markdown",
   "metadata": {},
   "source": [
    "## Limpando os dados\n",
    "\n",
    "#### 1 - Convertendo para bool"
   ]
  },
  {
   "cell_type": "code",
   "execution_count": 31,
   "metadata": {},
   "outputs": [
    {
     "data": {
      "text/html": [
       "<div>\n",
       "<style scoped>\n",
       "    .dataframe tbody tr th:only-of-type {\n",
       "        vertical-align: middle;\n",
       "    }\n",
       "\n",
       "    .dataframe tbody tr th {\n",
       "        vertical-align: top;\n",
       "    }\n",
       "\n",
       "    .dataframe thead th {\n",
       "        text-align: right;\n",
       "    }\n",
       "</style>\n",
       "<table border=\"1\" class=\"dataframe\">\n",
       "  <thead>\n",
       "    <tr style=\"text-align: right;\">\n",
       "      <th></th>\n",
       "      <th>Age</th>\n",
       "      <th>Attrition</th>\n",
       "      <th>Gender</th>\n",
       "      <th>MaritalStatus</th>\n",
       "      <th>MonthlyIncome</th>\n",
       "      <th>OverTime</th>\n",
       "    </tr>\n",
       "  </thead>\n",
       "  <tbody>\n",
       "    <tr>\n",
       "      <td>0</td>\n",
       "      <td>41</td>\n",
       "      <td>True</td>\n",
       "      <td>Female</td>\n",
       "      <td>Single</td>\n",
       "      <td>5993</td>\n",
       "      <td>True</td>\n",
       "    </tr>\n",
       "    <tr>\n",
       "      <td>1</td>\n",
       "      <td>49</td>\n",
       "      <td>False</td>\n",
       "      <td>Male</td>\n",
       "      <td>Married</td>\n",
       "      <td>5130</td>\n",
       "      <td>False</td>\n",
       "    </tr>\n",
       "    <tr>\n",
       "      <td>2</td>\n",
       "      <td>37</td>\n",
       "      <td>True</td>\n",
       "      <td>Male</td>\n",
       "      <td>Single</td>\n",
       "      <td>2090</td>\n",
       "      <td>True</td>\n",
       "    </tr>\n",
       "    <tr>\n",
       "      <td>3</td>\n",
       "      <td>33</td>\n",
       "      <td>False</td>\n",
       "      <td>Female</td>\n",
       "      <td>Married</td>\n",
       "      <td>2909</td>\n",
       "      <td>True</td>\n",
       "    </tr>\n",
       "    <tr>\n",
       "      <td>4</td>\n",
       "      <td>27</td>\n",
       "      <td>False</td>\n",
       "      <td>Male</td>\n",
       "      <td>Married</td>\n",
       "      <td>3468</td>\n",
       "      <td>False</td>\n",
       "    </tr>\n",
       "  </tbody>\n",
       "</table>\n",
       "</div>"
      ],
      "text/plain": [
       "   Age  Attrition  Gender MaritalStatus  MonthlyIncome  OverTime\n",
       "0   41       True  Female        Single           5993      True\n",
       "1   49      False    Male       Married           5130     False\n",
       "2   37       True    Male        Single           2090      True\n",
       "3   33      False  Female       Married           2909      True\n",
       "4   27      False    Male       Married           3468     False"
      ]
     },
     "execution_count": 31,
     "metadata": {},
     "output_type": "execute_result"
    }
   ],
   "source": [
    "rh = rh.replace({'Yes': True, 'No': False})\n",
    "rh.head()"
   ]
  },
  {
   "cell_type": "code",
   "execution_count": 32,
   "metadata": {},
   "outputs": [
    {
     "data": {
      "text/html": [
       "<div>\n",
       "<style scoped>\n",
       "    .dataframe tbody tr th:only-of-type {\n",
       "        vertical-align: middle;\n",
       "    }\n",
       "\n",
       "    .dataframe tbody tr th {\n",
       "        vertical-align: top;\n",
       "    }\n",
       "\n",
       "    .dataframe thead th {\n",
       "        text-align: right;\n",
       "    }\n",
       "</style>\n",
       "<table border=\"1\" class=\"dataframe\">\n",
       "  <thead>\n",
       "    <tr style=\"text-align: right;\">\n",
       "      <th></th>\n",
       "      <th>Age</th>\n",
       "      <th>Attrition</th>\n",
       "      <th>Gender</th>\n",
       "      <th>MaritalStatus</th>\n",
       "      <th>MonthlyIncome</th>\n",
       "      <th>OverTime</th>\n",
       "      <th>Married</th>\n",
       "    </tr>\n",
       "  </thead>\n",
       "  <tbody>\n",
       "    <tr>\n",
       "      <td>0</td>\n",
       "      <td>41</td>\n",
       "      <td>True</td>\n",
       "      <td>Female</td>\n",
       "      <td>Single</td>\n",
       "      <td>5993</td>\n",
       "      <td>True</td>\n",
       "      <td>False</td>\n",
       "    </tr>\n",
       "    <tr>\n",
       "      <td>1</td>\n",
       "      <td>49</td>\n",
       "      <td>False</td>\n",
       "      <td>Male</td>\n",
       "      <td>Married</td>\n",
       "      <td>5130</td>\n",
       "      <td>False</td>\n",
       "      <td>True</td>\n",
       "    </tr>\n",
       "    <tr>\n",
       "      <td>2</td>\n",
       "      <td>37</td>\n",
       "      <td>True</td>\n",
       "      <td>Male</td>\n",
       "      <td>Single</td>\n",
       "      <td>2090</td>\n",
       "      <td>True</td>\n",
       "      <td>False</td>\n",
       "    </tr>\n",
       "    <tr>\n",
       "      <td>3</td>\n",
       "      <td>33</td>\n",
       "      <td>False</td>\n",
       "      <td>Female</td>\n",
       "      <td>Married</td>\n",
       "      <td>2909</td>\n",
       "      <td>True</td>\n",
       "      <td>True</td>\n",
       "    </tr>\n",
       "    <tr>\n",
       "      <td>4</td>\n",
       "      <td>27</td>\n",
       "      <td>False</td>\n",
       "      <td>Male</td>\n",
       "      <td>Married</td>\n",
       "      <td>3468</td>\n",
       "      <td>False</td>\n",
       "      <td>True</td>\n",
       "    </tr>\n",
       "  </tbody>\n",
       "</table>\n",
       "</div>"
      ],
      "text/plain": [
       "   Age  Attrition  Gender MaritalStatus  MonthlyIncome  OverTime  Married\n",
       "0   41       True  Female        Single           5993      True    False\n",
       "1   49      False    Male       Married           5130     False     True\n",
       "2   37       True    Male        Single           2090      True    False\n",
       "3   33      False  Female       Married           2909      True     True\n",
       "4   27      False    Male       Married           3468     False     True"
      ]
     },
     "execution_count": 32,
     "metadata": {},
     "output_type": "execute_result"
    }
   ],
   "source": [
    "rh['Married'] = rh['MaritalStatus'] == 'Married'\n",
    "rh.head()"
   ]
  },
  {
   "cell_type": "code",
   "execution_count": 33,
   "metadata": {},
   "outputs": [
    {
     "data": {
      "text/html": [
       "<div>\n",
       "<style scoped>\n",
       "    .dataframe tbody tr th:only-of-type {\n",
       "        vertical-align: middle;\n",
       "    }\n",
       "\n",
       "    .dataframe tbody tr th {\n",
       "        vertical-align: top;\n",
       "    }\n",
       "\n",
       "    .dataframe thead th {\n",
       "        text-align: right;\n",
       "    }\n",
       "</style>\n",
       "<table border=\"1\" class=\"dataframe\">\n",
       "  <thead>\n",
       "    <tr style=\"text-align: right;\">\n",
       "      <th></th>\n",
       "      <th>Age</th>\n",
       "      <th>Attrition</th>\n",
       "      <th>Gender</th>\n",
       "      <th>MaritalStatus</th>\n",
       "      <th>MonthlyIncome</th>\n",
       "      <th>OverTime</th>\n",
       "      <th>Married</th>\n",
       "      <th>Female</th>\n",
       "    </tr>\n",
       "  </thead>\n",
       "  <tbody>\n",
       "    <tr>\n",
       "      <td>0</td>\n",
       "      <td>41</td>\n",
       "      <td>True</td>\n",
       "      <td>Female</td>\n",
       "      <td>Single</td>\n",
       "      <td>5993</td>\n",
       "      <td>True</td>\n",
       "      <td>False</td>\n",
       "      <td>True</td>\n",
       "    </tr>\n",
       "    <tr>\n",
       "      <td>1</td>\n",
       "      <td>49</td>\n",
       "      <td>False</td>\n",
       "      <td>Male</td>\n",
       "      <td>Married</td>\n",
       "      <td>5130</td>\n",
       "      <td>False</td>\n",
       "      <td>True</td>\n",
       "      <td>False</td>\n",
       "    </tr>\n",
       "    <tr>\n",
       "      <td>2</td>\n",
       "      <td>37</td>\n",
       "      <td>True</td>\n",
       "      <td>Male</td>\n",
       "      <td>Single</td>\n",
       "      <td>2090</td>\n",
       "      <td>True</td>\n",
       "      <td>False</td>\n",
       "      <td>False</td>\n",
       "    </tr>\n",
       "    <tr>\n",
       "      <td>3</td>\n",
       "      <td>33</td>\n",
       "      <td>False</td>\n",
       "      <td>Female</td>\n",
       "      <td>Married</td>\n",
       "      <td>2909</td>\n",
       "      <td>True</td>\n",
       "      <td>True</td>\n",
       "      <td>True</td>\n",
       "    </tr>\n",
       "    <tr>\n",
       "      <td>4</td>\n",
       "      <td>27</td>\n",
       "      <td>False</td>\n",
       "      <td>Male</td>\n",
       "      <td>Married</td>\n",
       "      <td>3468</td>\n",
       "      <td>False</td>\n",
       "      <td>True</td>\n",
       "      <td>False</td>\n",
       "    </tr>\n",
       "  </tbody>\n",
       "</table>\n",
       "</div>"
      ],
      "text/plain": [
       "   Age  Attrition  Gender MaritalStatus  MonthlyIncome  OverTime  Married  \\\n",
       "0   41       True  Female        Single           5993      True    False   \n",
       "1   49      False    Male       Married           5130     False     True   \n",
       "2   37       True    Male        Single           2090      True    False   \n",
       "3   33      False  Female       Married           2909      True     True   \n",
       "4   27      False    Male       Married           3468     False     True   \n",
       "\n",
       "   Female  \n",
       "0    True  \n",
       "1   False  \n",
       "2   False  \n",
       "3    True  \n",
       "4   False  "
      ]
     },
     "execution_count": 33,
     "metadata": {},
     "output_type": "execute_result"
    }
   ],
   "source": [
    "rh['Female'] = rh['Gender'] == 'Female'\n",
    "rh.head()"
   ]
  },
  {
   "cell_type": "code",
   "execution_count": 34,
   "metadata": {},
   "outputs": [
    {
     "data": {
      "text/html": [
       "<div>\n",
       "<style scoped>\n",
       "    .dataframe tbody tr th:only-of-type {\n",
       "        vertical-align: middle;\n",
       "    }\n",
       "\n",
       "    .dataframe tbody tr th {\n",
       "        vertical-align: top;\n",
       "    }\n",
       "\n",
       "    .dataframe thead th {\n",
       "        text-align: right;\n",
       "    }\n",
       "</style>\n",
       "<table border=\"1\" class=\"dataframe\">\n",
       "  <thead>\n",
       "    <tr style=\"text-align: right;\">\n",
       "      <th></th>\n",
       "      <th>Age</th>\n",
       "      <th>Attrition</th>\n",
       "      <th>Gender</th>\n",
       "      <th>MaritalStatus</th>\n",
       "      <th>MonthlyIncome</th>\n",
       "      <th>OverTime</th>\n",
       "      <th>Married</th>\n",
       "      <th>Female</th>\n",
       "    </tr>\n",
       "  </thead>\n",
       "  <tbody>\n",
       "    <tr>\n",
       "      <td>count</td>\n",
       "      <td>1470.000000</td>\n",
       "      <td>1470</td>\n",
       "      <td>1470</td>\n",
       "      <td>1470</td>\n",
       "      <td>1470.000000</td>\n",
       "      <td>1470</td>\n",
       "      <td>1470</td>\n",
       "      <td>1470</td>\n",
       "    </tr>\n",
       "    <tr>\n",
       "      <td>unique</td>\n",
       "      <td>NaN</td>\n",
       "      <td>2</td>\n",
       "      <td>2</td>\n",
       "      <td>3</td>\n",
       "      <td>NaN</td>\n",
       "      <td>2</td>\n",
       "      <td>2</td>\n",
       "      <td>2</td>\n",
       "    </tr>\n",
       "    <tr>\n",
       "      <td>top</td>\n",
       "      <td>NaN</td>\n",
       "      <td>False</td>\n",
       "      <td>Male</td>\n",
       "      <td>Married</td>\n",
       "      <td>NaN</td>\n",
       "      <td>False</td>\n",
       "      <td>False</td>\n",
       "      <td>False</td>\n",
       "    </tr>\n",
       "    <tr>\n",
       "      <td>freq</td>\n",
       "      <td>NaN</td>\n",
       "      <td>1233</td>\n",
       "      <td>882</td>\n",
       "      <td>673</td>\n",
       "      <td>NaN</td>\n",
       "      <td>1054</td>\n",
       "      <td>797</td>\n",
       "      <td>882</td>\n",
       "    </tr>\n",
       "    <tr>\n",
       "      <td>mean</td>\n",
       "      <td>36.923810</td>\n",
       "      <td>NaN</td>\n",
       "      <td>NaN</td>\n",
       "      <td>NaN</td>\n",
       "      <td>6502.931293</td>\n",
       "      <td>NaN</td>\n",
       "      <td>NaN</td>\n",
       "      <td>NaN</td>\n",
       "    </tr>\n",
       "    <tr>\n",
       "      <td>std</td>\n",
       "      <td>9.135373</td>\n",
       "      <td>NaN</td>\n",
       "      <td>NaN</td>\n",
       "      <td>NaN</td>\n",
       "      <td>4707.956783</td>\n",
       "      <td>NaN</td>\n",
       "      <td>NaN</td>\n",
       "      <td>NaN</td>\n",
       "    </tr>\n",
       "    <tr>\n",
       "      <td>min</td>\n",
       "      <td>18.000000</td>\n",
       "      <td>NaN</td>\n",
       "      <td>NaN</td>\n",
       "      <td>NaN</td>\n",
       "      <td>1009.000000</td>\n",
       "      <td>NaN</td>\n",
       "      <td>NaN</td>\n",
       "      <td>NaN</td>\n",
       "    </tr>\n",
       "    <tr>\n",
       "      <td>25%</td>\n",
       "      <td>30.000000</td>\n",
       "      <td>NaN</td>\n",
       "      <td>NaN</td>\n",
       "      <td>NaN</td>\n",
       "      <td>2911.000000</td>\n",
       "      <td>NaN</td>\n",
       "      <td>NaN</td>\n",
       "      <td>NaN</td>\n",
       "    </tr>\n",
       "    <tr>\n",
       "      <td>50%</td>\n",
       "      <td>36.000000</td>\n",
       "      <td>NaN</td>\n",
       "      <td>NaN</td>\n",
       "      <td>NaN</td>\n",
       "      <td>4919.000000</td>\n",
       "      <td>NaN</td>\n",
       "      <td>NaN</td>\n",
       "      <td>NaN</td>\n",
       "    </tr>\n",
       "    <tr>\n",
       "      <td>75%</td>\n",
       "      <td>43.000000</td>\n",
       "      <td>NaN</td>\n",
       "      <td>NaN</td>\n",
       "      <td>NaN</td>\n",
       "      <td>8379.000000</td>\n",
       "      <td>NaN</td>\n",
       "      <td>NaN</td>\n",
       "      <td>NaN</td>\n",
       "    </tr>\n",
       "    <tr>\n",
       "      <td>max</td>\n",
       "      <td>60.000000</td>\n",
       "      <td>NaN</td>\n",
       "      <td>NaN</td>\n",
       "      <td>NaN</td>\n",
       "      <td>19999.000000</td>\n",
       "      <td>NaN</td>\n",
       "      <td>NaN</td>\n",
       "      <td>NaN</td>\n",
       "    </tr>\n",
       "  </tbody>\n",
       "</table>\n",
       "</div>"
      ],
      "text/plain": [
       "                Age Attrition Gender MaritalStatus  MonthlyIncome OverTime  \\\n",
       "count   1470.000000      1470   1470          1470    1470.000000     1470   \n",
       "unique          NaN         2      2             3            NaN        2   \n",
       "top             NaN     False   Male       Married            NaN    False   \n",
       "freq            NaN      1233    882           673            NaN     1054   \n",
       "mean      36.923810       NaN    NaN           NaN    6502.931293      NaN   \n",
       "std        9.135373       NaN    NaN           NaN    4707.956783      NaN   \n",
       "min       18.000000       NaN    NaN           NaN    1009.000000      NaN   \n",
       "25%       30.000000       NaN    NaN           NaN    2911.000000      NaN   \n",
       "50%       36.000000       NaN    NaN           NaN    4919.000000      NaN   \n",
       "75%       43.000000       NaN    NaN           NaN    8379.000000      NaN   \n",
       "max       60.000000       NaN    NaN           NaN   19999.000000      NaN   \n",
       "\n",
       "       Married Female  \n",
       "count     1470   1470  \n",
       "unique       2      2  \n",
       "top      False  False  \n",
       "freq       797    882  \n",
       "mean       NaN    NaN  \n",
       "std        NaN    NaN  \n",
       "min        NaN    NaN  \n",
       "25%        NaN    NaN  \n",
       "50%        NaN    NaN  \n",
       "75%        NaN    NaN  \n",
       "max        NaN    NaN  "
      ]
     },
     "execution_count": 34,
     "metadata": {},
     "output_type": "execute_result"
    }
   ],
   "source": [
    "rh.describe(include='all')"
   ]
  },
  {
   "cell_type": "code",
   "execution_count": 35,
   "metadata": {},
   "outputs": [
    {
     "data": {
      "text/plain": [
       "<matplotlib.axes._subplots.AxesSubplot at 0x2bbfe405548>"
      ]
     },
     "execution_count": 35,
     "metadata": {},
     "output_type": "execute_result"
    },
    {
     "data": {
      "image/png": "[encoded data removed]",
      "text/plain": [
       "<Figure size 432x288 with 1 Axes>"
      ]
     },
     "metadata": {
      "needs_background": "light"
     },
     "output_type": "display_data"
    }
   ],
   "source": [
    "rh['Age'].plot(kind='box')"
   ]
  },
  {
   "cell_type": "markdown",
   "metadata": {},
   "source": [
    "# 2 - Removendo valores nulos (vazios)"
   ]
  },
  {
   "cell_type": "code",
   "execution_count": 36,
   "metadata": {},
   "outputs": [
    {
     "data": {
      "text/plain": [
       "Age              0\n",
       "Attrition        0\n",
       "Gender           0\n",
       "MaritalStatus    0\n",
       "MonthlyIncome    0\n",
       "OverTime         0\n",
       "Married          0\n",
       "Female           0\n",
       "dtype: int64"
      ]
     },
     "execution_count": 36,
     "metadata": {},
     "output_type": "execute_result"
    }
   ],
   "source": [
    "rh.isnull().sum()"
   ]
  },
  {
   "cell_type": "markdown",
   "metadata": {},
   "source": [
    "Felizmente, não há valores nulos."
   ]
  },
  {
   "cell_type": "markdown",
   "metadata": {},
   "source": [
    "## Procurando relações entre as variáveis"
   ]
  },
  {
   "cell_type": "code",
   "execution_count": 37,
   "metadata": {},
   "outputs": [
    {
     "data": {
      "text/plain": [
       "<matplotlib.axes._subplots.AxesSubplot at 0x2bbfe4595c8>"
      ]
     },
     "execution_count": 37,
     "metadata": {},
     "output_type": "execute_result"
    },
    {
     "data": {
      "image/png": "[encoded data removed]",
      "text/plain": [
       "<Figure size 720x576 with 1 Axes>"
      ]
     },
     "metadata": {
      "needs_background": "light"
     },
     "output_type": "display_data"
    }
   ],
   "source": [
    "figsize(10, 8)\n",
    "sns.boxplot(data=rh, x='Attrition', y='Age')"
   ]
  },
  {
   "cell_type": "code",
   "execution_count": 38,
   "metadata": {},
   "outputs": [
    {
     "data": {
      "text/plain": [
       "<matplotlib.axes._subplots.AxesSubplot at 0x2bbfe4e28c8>"
      ]
     },
     "execution_count": 38,
     "metadata": {},
     "output_type": "execute_result"
    },
    {
     "data": {
      "image/png": "[encoded data removed]",
      "text/plain": [
       "<Figure size 720x576 with 1 Axes>"
      ]
     },
     "metadata": {
      "needs_background": "light"
     },
     "output_type": "display_data"
    }
   ],
   "source": [
    "figsize(10, 8)\n",
    "sns.boxplot(data=rh, x='Gender', y='Age', hue='Attrition')"
   ]
  },
  {
   "cell_type": "code",
   "execution_count": 47,
   "metadata": {},
   "outputs": [
    {
     "data": {
      "text/plain": [
       "<matplotlib.axes._subplots.AxesSubplot at 0x2bbff7f2948>"
      ]
     },
     "execution_count": 47,
     "metadata": {},
     "output_type": "execute_result"
    },
    {
     "data": {
      "image/png": "[encoded data removed]",
      "text/plain": [
       "<Figure size 1080x432 with 2 Axes>"
      ]
     },
     "metadata": {
      "needs_background": "light"
     },
     "output_type": "display_data"
    }
   ],
   "source": [
    "figsize(15, 6)\n",
    "ax1 = plt.subplot(1, 2, 1)\n",
    "ax2 = plt.subplot(1, 2, 2)\n",
    "sns.boxplot(data=rh[rh['Female']], x='MaritalStatus', y='Age', hue='Attrition', ax=ax1)\n",
    "sns.boxplot(data=rh[~rh['Female']], x='MaritalStatus', y='Age', hue='Attrition', ax=ax2)"
   ]
  },
  {
   "cell_type": "code",
   "execution_count": 49,
   "metadata": {},
   "outputs": [
    {
     "data": {
      "text/plain": [
       "<matplotlib.axes._subplots.AxesSubplot at 0x2bb8a697b08>"
      ]
     },
     "execution_count": 49,
     "metadata": {},
     "output_type": "execute_result"
    },
    {
     "data": {
      "image/png": "[encoded data removed]",
      "text/plain": [
       "<Figure size 1080x432 with 2 Axes>"
      ]
     },
     "metadata": {
      "needs_background": "light"
     },
     "output_type": "display_data"
    }
   ],
   "source": [
    "figsize(15, 6)\n",
    "ax1 = plt.subplot(1, 2, 1)\n",
    "ax2 = plt.subplot(1, 2, 2)\n",
    "sns.boxplot(data=rh[rh['Female']], x='MaritalStatus', y='MonthlyIncome', hue='Attrition', ax=ax1)\n",
    "sns.boxplot(data=rh[~rh['Female']], x='MaritalStatus', y='MonthlyIncome', hue='Attrition', ax=ax2)"
   ]
  },
  {
   "cell_type": "code",
   "execution_count": 53,
   "metadata": {},
   "outputs": [
    {
     "data": {
      "text/plain": [
       "0     True\n",
       "1    False\n",
       "2    False\n",
       "3     True\n",
       "4    False\n",
       "Name: Gender, dtype: bool"
      ]
     },
     "execution_count": 53,
     "metadata": {},
     "output_type": "execute_result"
    }
   ],
   "source": [
    "filtro_mulheres = rh['Gender'] == 'Female'\n",
    "filtro_mulheres.head()"
   ]
  },
  {
   "cell_type": "code",
   "execution_count": 52,
   "metadata": {},
   "outputs": [
    {
     "data": {
      "text/plain": [
       "588"
      ]
     },
     "execution_count": 52,
     "metadata": {},
     "output_type": "execute_result"
    }
   ],
   "source": [
    "filtro_mulheres.sum()"
   ]
  },
  {
   "cell_type": "code",
   "execution_count": 54,
   "metadata": {},
   "outputs": [
    {
     "data": {
      "text/plain": [
       "0    False\n",
       "1    False\n",
       "2    False\n",
       "3    False\n",
       "4    False\n",
       "Name: MaritalStatus, dtype: bool"
      ]
     },
     "execution_count": 54,
     "metadata": {},
     "output_type": "execute_result"
    }
   ],
   "source": [
    "filtro_divorciados = rh['MaritalStatus'] == 'Divorced'\n",
    "filtro_divorciados.head()"
   ]
  },
  {
   "cell_type": "code",
   "execution_count": 55,
   "metadata": {},
   "outputs": [
    {
     "data": {
      "text/plain": [
       "327"
      ]
     },
     "execution_count": 55,
     "metadata": {},
     "output_type": "execute_result"
    }
   ],
   "source": [
    "filtro_divorciados.sum()"
   ]
  },
  {
   "cell_type": "code",
   "execution_count": 58,
   "metadata": {
    "scrolled": true
   },
   "outputs": [
    {
     "data": {
      "text/plain": [
       "0    False\n",
       "1    False\n",
       "2    False\n",
       "3    False\n",
       "4    False\n",
       "dtype: bool"
      ]
     },
     "execution_count": 58,
     "metadata": {},
     "output_type": "execute_result"
    }
   ],
   "source": [
    "filtro_mulheres_divorciadas = filtro_mulheres & filtro_divorciados\n",
    "filtro_mulheres_divorciadas.head()"
   ]
  },
  {
   "cell_type": "code",
   "execution_count": 59,
   "metadata": {},
   "outputs": [
    {
     "data": {
      "text/plain": [
       "117"
      ]
     },
     "execution_count": 59,
     "metadata": {},
     "output_type": "execute_result"
    }
   ],
   "source": [
    "filtro_mulheres_divorciadas.sum()"
   ]
  },
  {
   "cell_type": "code",
   "execution_count": 61,
   "metadata": {},
   "outputs": [],
   "source": [
    "filtro_demissao = rh['Attrition']"
   ]
  },
  {
   "cell_type": "code",
   "execution_count": 62,
   "metadata": {},
   "outputs": [
    {
     "data": {
      "text/plain": [
       "0     True\n",
       "1    False\n",
       "2     True\n",
       "3    False\n",
       "4    False\n",
       "Name: Attrition, dtype: bool"
      ]
     },
     "execution_count": 62,
     "metadata": {},
     "output_type": "execute_result"
    }
   ],
   "source": [
    "filtro_demissao.head()"
   ]
  },
  {
   "cell_type": "code",
   "execution_count": 63,
   "metadata": {},
   "outputs": [
    {
     "data": {
      "text/plain": [
       "9"
      ]
     },
     "execution_count": 63,
     "metadata": {},
     "output_type": "execute_result"
    }
   ],
   "source": [
    "filtro_mulheres_divorciadas_demissao = filtro_mulheres & \\\n",
    "                                       filtro_divorciados & \\\n",
    "                                       filtro_demissao\n",
    "filtro_mulheres_divorciadas_demissao.sum()"
   ]
  },
  {
   "cell_type": "code",
   "execution_count": 66,
   "metadata": {},
   "outputs": [
    {
     "data": {
      "text/html": [
       "<div>\n",
       "<style scoped>\n",
       "    .dataframe tbody tr th:only-of-type {\n",
       "        vertical-align: middle;\n",
       "    }\n",
       "\n",
       "    .dataframe tbody tr th {\n",
       "        vertical-align: top;\n",
       "    }\n",
       "\n",
       "    .dataframe thead th {\n",
       "        text-align: right;\n",
       "    }\n",
       "</style>\n",
       "<table border=\"1\" class=\"dataframe\">\n",
       "  <thead>\n",
       "    <tr style=\"text-align: right;\">\n",
       "      <th></th>\n",
       "      <th></th>\n",
       "      <th></th>\n",
       "      <th>Age</th>\n",
       "      <th>MonthlyIncome</th>\n",
       "      <th>OverTime</th>\n",
       "      <th>Married</th>\n",
       "      <th>Female</th>\n",
       "    </tr>\n",
       "    <tr>\n",
       "      <th>Gender</th>\n",
       "      <th>MaritalStatus</th>\n",
       "      <th>Attrition</th>\n",
       "      <th></th>\n",
       "      <th></th>\n",
       "      <th></th>\n",
       "      <th></th>\n",
       "      <th></th>\n",
       "    </tr>\n",
       "  </thead>\n",
       "  <tbody>\n",
       "    <tr>\n",
       "      <td rowspan=\"6\" valign=\"top\">Female</td>\n",
       "      <td rowspan=\"2\" valign=\"top\">Divorced</td>\n",
       "      <td>False</td>\n",
       "      <td>37.5</td>\n",
       "      <td>5233.0</td>\n",
       "      <td>0.0</td>\n",
       "      <td>0.0</td>\n",
       "      <td>1.0</td>\n",
       "    </tr>\n",
       "    <tr>\n",
       "      <td>True</td>\n",
       "      <td>34.0</td>\n",
       "      <td>2741.0</td>\n",
       "      <td>1.0</td>\n",
       "      <td>0.0</td>\n",
       "      <td>1.0</td>\n",
       "    </tr>\n",
       "    <tr>\n",
       "      <td rowspan=\"2\" valign=\"top\">Married</td>\n",
       "      <td>False</td>\n",
       "      <td>37.0</td>\n",
       "      <td>5488.0</td>\n",
       "      <td>0.0</td>\n",
       "      <td>1.0</td>\n",
       "      <td>1.0</td>\n",
       "    </tr>\n",
       "    <tr>\n",
       "      <td>True</td>\n",
       "      <td>34.0</td>\n",
       "      <td>4559.0</td>\n",
       "      <td>0.0</td>\n",
       "      <td>1.0</td>\n",
       "      <td>1.0</td>\n",
       "    </tr>\n",
       "    <tr>\n",
       "      <td rowspan=\"2\" valign=\"top\">Single</td>\n",
       "      <td>False</td>\n",
       "      <td>36.0</td>\n",
       "      <td>5022.5</td>\n",
       "      <td>0.0</td>\n",
       "      <td>0.0</td>\n",
       "      <td>1.0</td>\n",
       "    </tr>\n",
       "    <tr>\n",
       "      <td>True</td>\n",
       "      <td>30.0</td>\n",
       "      <td>2851.0</td>\n",
       "      <td>1.0</td>\n",
       "      <td>0.0</td>\n",
       "      <td>1.0</td>\n",
       "    </tr>\n",
       "    <tr>\n",
       "      <td rowspan=\"6\" valign=\"top\">Male</td>\n",
       "      <td rowspan=\"2\" valign=\"top\">Divorced</td>\n",
       "      <td>False</td>\n",
       "      <td>36.5</td>\n",
       "      <td>5435.0</td>\n",
       "      <td>0.0</td>\n",
       "      <td>0.0</td>\n",
       "      <td>0.0</td>\n",
       "    </tr>\n",
       "    <tr>\n",
       "      <td>True</td>\n",
       "      <td>36.0</td>\n",
       "      <td>3101.0</td>\n",
       "      <td>0.5</td>\n",
       "      <td>0.0</td>\n",
       "      <td>0.0</td>\n",
       "    </tr>\n",
       "    <tr>\n",
       "      <td rowspan=\"2\" valign=\"top\">Married</td>\n",
       "      <td>False</td>\n",
       "      <td>36.0</td>\n",
       "      <td>5128.0</td>\n",
       "      <td>0.0</td>\n",
       "      <td>1.0</td>\n",
       "      <td>0.0</td>\n",
       "    </tr>\n",
       "    <tr>\n",
       "      <td>True</td>\n",
       "      <td>32.0</td>\n",
       "      <td>4031.0</td>\n",
       "      <td>1.0</td>\n",
       "      <td>1.0</td>\n",
       "      <td>0.0</td>\n",
       "    </tr>\n",
       "    <tr>\n",
       "      <td rowspan=\"2\" valign=\"top\">Single</td>\n",
       "      <td>False</td>\n",
       "      <td>35.0</td>\n",
       "      <td>4702.5</td>\n",
       "      <td>0.0</td>\n",
       "      <td>0.0</td>\n",
       "      <td>0.0</td>\n",
       "    </tr>\n",
       "    <tr>\n",
       "      <td>True</td>\n",
       "      <td>31.0</td>\n",
       "      <td>3172.0</td>\n",
       "      <td>1.0</td>\n",
       "      <td>0.0</td>\n",
       "      <td>0.0</td>\n",
       "    </tr>\n",
       "  </tbody>\n",
       "</table>\n",
       "</div>"
      ],
      "text/plain": [
       "                                 Age  MonthlyIncome  OverTime  Married  Female\n",
       "Gender MaritalStatus Attrition                                                \n",
       "Female Divorced      False      37.5         5233.0       0.0      0.0     1.0\n",
       "                     True       34.0         2741.0       1.0      0.0     1.0\n",
       "       Married       False      37.0         5488.0       0.0      1.0     1.0\n",
       "                     True       34.0         4559.0       0.0      1.0     1.0\n",
       "       Single        False      36.0         5022.5       0.0      0.0     1.0\n",
       "                     True       30.0         2851.0       1.0      0.0     1.0\n",
       "Male   Divorced      False      36.5         5435.0       0.0      0.0     0.0\n",
       "                     True       36.0         3101.0       0.5      0.0     0.0\n",
       "       Married       False      36.0         5128.0       0.0      1.0     0.0\n",
       "                     True       32.0         4031.0       1.0      1.0     0.0\n",
       "       Single        False      35.0         4702.5       0.0      0.0     0.0\n",
       "                     True       31.0         3172.0       1.0      0.0     0.0"
      ]
     },
     "execution_count": 66,
     "metadata": {},
     "output_type": "execute_result"
    }
   ],
   "source": [
    "rh.groupby(['Gender', 'MaritalStatus', 'Attrition']).median()"
   ]
  },
  {
   "cell_type": "code",
   "execution_count": 39,
   "metadata": {},
   "outputs": [
    {
     "data": {
      "text/plain": [
       "<matplotlib.axes._subplots.AxesSubplot at 0x2bbfe594e48>"
      ]
     },
     "execution_count": 39,
     "metadata": {},
     "output_type": "execute_result"
    },
    {
     "data": {
      "image/png": "[encoded data removed]",
      "text/plain": [
       "<Figure size 720x576 with 1 Axes>"
      ]
     },
     "metadata": {
      "needs_background": "light"
     },
     "output_type": "display_data"
    }
   ],
   "source": [
    "figsize(10, 8)\n",
    "sns.boxplot(data=rh, x='Attrition', y='MonthlyIncome')"
   ]
  },
  {
   "cell_type": "code",
   "execution_count": 42,
   "metadata": {
    "scrolled": false
   },
   "outputs": [
    {
     "data": {
      "text/plain": [
       "<matplotlib.axes._subplots.AxesSubplot at 0x2bbfedf2788>"
      ]
     },
     "execution_count": 42,
     "metadata": {},
     "output_type": "execute_result"
    },
    {
     "data": {
      "image/png": "[encoded data removed]",
      "text/plain": [
       "<Figure size 720x576 with 1 Axes>"
      ]
     },
     "metadata": {
      "needs_background": "light"
     },
     "output_type": "display_data"
    }
   ],
   "source": [
    "figsize(10, 8)\n",
    "sns.violinplot(data=rh, x='MaritalStatus', y='MonthlyIncome', hue='Attrition')"
   ]
  },
  {
   "cell_type": "code",
   "execution_count": 43,
   "metadata": {
    "scrolled": false
   },
   "outputs": [
    {
     "data": {
      "text/plain": [
       "<matplotlib.axes._subplots.AxesSubplot at 0x2bbfec4c8c8>"
      ]
     },
     "execution_count": 43,
     "metadata": {},
     "output_type": "execute_result"
    },
    {
     "data": {
      "image/png": "[encoded data removed]",
      "text/plain": [
       "<Figure size 720x576 with 1 Axes>"
      ]
     },
     "metadata": {
      "needs_background": "light"
     },
     "output_type": "display_data"
    }
   ],
   "source": [
    "figsize(10, 8)\n",
    "sns.violinplot(data=rh, x='Gender', y='Age', hue='Attrition')"
   ]
  },
  {
   "cell_type": "markdown",
   "metadata": {},
   "source": [
    "### Gráfico de correlação"
   ]
  },
  {
   "cell_type": "code",
   "execution_count": 67,
   "metadata": {},
   "outputs": [
    {
     "data": {
      "text/plain": [
       "<matplotlib.axes._subplots.AxesSubplot at 0x2bb8b05e688>"
      ]
     },
     "execution_count": 67,
     "metadata": {},
     "output_type": "execute_result"
    },
    {
     "data": {
      "image/png": "[encoded data removed]",
      "text/plain": [
       "<Figure size 720x360 with 2 Axes>"
      ]
     },
     "metadata": {
      "needs_background": "light"
     },
     "output_type": "display_data"
    }
   ],
   "source": [
    "figsize(10, 5)\n",
    "corr = rh.corr()\n",
    "sns.heatmap(corr)"
   ]
  },
  {
   "cell_type": "markdown",
   "metadata": {},
   "source": [
    "# Será que funcionários casados têm mais chances de deixar o emprego?"
   ]
  },
  {
   "cell_type": "markdown",
   "metadata": {},
   "source": [
    "Antes de tudo, como podemos fazer para medir a probabilidade de um funcionário pedir demissão?"
   ]
  },
  {
   "cell_type": "markdown",
   "metadata": {},
   "source": [
    "1- Usando a média"
   ]
  },
  {
   "cell_type": "code",
   "execution_count": 68,
   "metadata": {},
   "outputs": [
    {
     "data": {
      "text/plain": [
       "0.16122448979591836"
      ]
     },
     "execution_count": 68,
     "metadata": {},
     "output_type": "execute_result"
    }
   ],
   "source": [
    "rh['Attrition'].mean()"
   ]
  },
  {
   "cell_type": "markdown",
   "metadata": {},
   "source": [
    "2- Estimando com o Teorema de Bayes"
   ]
  },
  {
   "cell_type": "code",
   "execution_count": 69,
   "metadata": {},
   "outputs": [
    {
     "name": "stderr",
     "output_type": "stream",
     "text": [
      "Auto-assigning NUTS sampler...\n",
      "Initializing NUTS using jitter+adapt_diag...\n",
      "Multiprocess sampling (2 chains in 2 jobs)\n",
      "NUTS: [p]\n",
      "Sampling 2 chains, 0 divergences: 100%|██████████████████████████████████████| 12000/12000 [00:13<00:00, 868.40draws/s]\n"
     ]
    }
   ],
   "source": [
    "with pm.Model() as model:\n",
    "    p = pm.Uniform('p', 0, 1)\n",
    "    obs = pm.Bernoulli(\"obs\", p, observed=rh['Attrition'])\n",
    "    trace = pm.sample(5000, tune=1000)"
   ]
  },
  {
   "cell_type": "code",
   "execution_count": 70,
   "metadata": {},
   "outputs": [
    {
     "data": {
      "text/html": [
       "<div>\n",
       "<style scoped>\n",
       "    .dataframe tbody tr th:only-of-type {\n",
       "        vertical-align: middle;\n",
       "    }\n",
       "\n",
       "    .dataframe tbody tr th {\n",
       "        vertical-align: top;\n",
       "    }\n",
       "\n",
       "    .dataframe thead th {\n",
       "        text-align: right;\n",
       "    }\n",
       "</style>\n",
       "<table border=\"1\" class=\"dataframe\">\n",
       "  <thead>\n",
       "    <tr style=\"text-align: right;\">\n",
       "      <th></th>\n",
       "      <th>mean</th>\n",
       "      <th>sd</th>\n",
       "      <th>hpd_3%</th>\n",
       "      <th>hpd_97%</th>\n",
       "      <th>mcse_mean</th>\n",
       "      <th>mcse_sd</th>\n",
       "      <th>ess_mean</th>\n",
       "      <th>ess_sd</th>\n",
       "      <th>ess_bulk</th>\n",
       "      <th>ess_tail</th>\n",
       "      <th>r_hat</th>\n",
       "    </tr>\n",
       "  </thead>\n",
       "  <tbody>\n",
       "    <tr>\n",
       "      <td>p</td>\n",
       "      <td>0.162</td>\n",
       "      <td>0.01</td>\n",
       "      <td>0.144</td>\n",
       "      <td>0.18</td>\n",
       "      <td>0.0</td>\n",
       "      <td>0.0</td>\n",
       "      <td>4241.0</td>\n",
       "      <td>4241.0</td>\n",
       "      <td>4240.0</td>\n",
       "      <td>7074.0</td>\n",
       "      <td>1.0</td>\n",
       "    </tr>\n",
       "  </tbody>\n",
       "</table>\n",
       "</div>"
      ],
      "text/plain": [
       "    mean    sd  hpd_3%  hpd_97%  mcse_mean  mcse_sd  ess_mean  ess_sd  \\\n",
       "p  0.162  0.01   0.144     0.18        0.0      0.0    4241.0  4241.0   \n",
       "\n",
       "   ess_bulk  ess_tail  r_hat  \n",
       "p    4240.0    7074.0    1.0  "
      ]
     },
     "execution_count": 70,
     "metadata": {},
     "output_type": "execute_result"
    }
   ],
   "source": [
    "az.summary(trace)"
   ]
  },
  {
   "cell_type": "code",
   "execution_count": 72,
   "metadata": {},
   "outputs": [
    {
     "data": {
      "text/html": [
       "<div>\n",
       "<style scoped>\n",
       "    .dataframe tbody tr th:only-of-type {\n",
       "        vertical-align: middle;\n",
       "    }\n",
       "\n",
       "    .dataframe tbody tr th {\n",
       "        vertical-align: top;\n",
       "    }\n",
       "\n",
       "    .dataframe thead th {\n",
       "        text-align: right;\n",
       "    }\n",
       "</style>\n",
       "<table border=\"1\" class=\"dataframe\">\n",
       "  <thead>\n",
       "    <tr style=\"text-align: right;\">\n",
       "      <th></th>\n",
       "      <th>mean</th>\n",
       "      <th>sd</th>\n",
       "      <th>hpd_3%</th>\n",
       "      <th>hpd_97%</th>\n",
       "      <th>mcse_mean</th>\n",
       "      <th>mcse_sd</th>\n",
       "      <th>ess_mean</th>\n",
       "      <th>ess_sd</th>\n",
       "      <th>ess_bulk</th>\n",
       "      <th>ess_tail</th>\n",
       "      <th>r_hat</th>\n",
       "    </tr>\n",
       "  </thead>\n",
       "  <tbody>\n",
       "    <tr>\n",
       "      <td>p</td>\n",
       "      <td>0.162</td>\n",
       "      <td>0.01</td>\n",
       "      <td>0.144</td>\n",
       "      <td>0.18</td>\n",
       "      <td>0.0</td>\n",
       "      <td>0.0</td>\n",
       "      <td>4241.0</td>\n",
       "      <td>4241.0</td>\n",
       "      <td>4240.0</td>\n",
       "      <td>7074.0</td>\n",
       "      <td>1.0</td>\n",
       "    </tr>\n",
       "  </tbody>\n",
       "</table>\n",
       "</div>"
      ],
      "text/plain": [
       "    mean    sd  hpd_3%  hpd_97%  mcse_mean  mcse_sd  ess_mean  ess_sd  \\\n",
       "p  0.162  0.01   0.144     0.18        0.0      0.0    4241.0  4241.0   \n",
       "\n",
       "   ess_bulk  ess_tail  r_hat  \n",
       "p    4240.0    7074.0    1.0  "
      ]
     },
     "execution_count": 72,
     "metadata": {},
     "output_type": "execute_result"
    }
   ],
   "source": [
    "az.summary(trace)"
   ]
  },
  {
   "cell_type": "code",
   "execution_count": 73,
   "metadata": {},
   "outputs": [
    {
     "data": {
      "image/png": "[encoded data removed]",
      "text/plain": [
       "<Figure size 720x360 with 1 Axes>"
      ]
     },
     "metadata": {
      "needs_background": "light"
     },
     "output_type": "display_data"
    }
   ],
   "source": [
    "az.plot_posterior(trace);"
   ]
  },
  {
   "cell_type": "markdown",
   "metadata": {},
   "source": [
    "## Como comparar casados e solteiros / divorciados?"
   ]
  },
  {
   "cell_type": "code",
   "execution_count": null,
   "metadata": {},
   "outputs": [],
   "source": [
    "filter_married = rh['Married']\n",
    "married = rh[filter_married]\n",
    "married.head()"
   ]
  },
  {
   "cell_type": "code",
   "execution_count": null,
   "metadata": {},
   "outputs": [],
   "source": [
    "available = rh[~filter_married]\n",
    "available.head()"
   ]
  },
  {
   "cell_type": "code",
   "execution_count": null,
   "metadata": {},
   "outputs": [],
   "source": [
    "with pm.Model() as model:\n",
    "    p_available = pm.Uniform('p_available', 0, 1)\n",
    "    p_married = pm.Uniform('p_married', 0, 1)\n",
    "\n",
    "    delta = pm.Deterministic('delta', p_available - p_married)\n",
    "\n",
    "    obs_available = pm.Bernoulli('obs_available', p_available, observed=available['Attrition'])\n",
    "    obs_married = pm.Bernoulli('obs_married', p_married, observed=married['Attrition'])\n",
    "\n",
    "    trace = pm.sample(5000, tune=1000)"
   ]
  },
  {
   "cell_type": "code",
   "execution_count": null,
   "metadata": {},
   "outputs": [],
   "source": [
    "az.summary(trace)"
   ]
  },
  {
   "cell_type": "code",
   "execution_count": null,
   "metadata": {},
   "outputs": [],
   "source": [
    "figsize(10, 8)\n",
    "az.plot_posterior(trace, var_names=['p_married', 'p_available']);"
   ]
  },
  {
   "cell_type": "code",
   "execution_count": null,
   "metadata": {},
   "outputs": [],
   "source": [
    "az.plot_posterior(trace, var_names=['delta']);"
   ]
  },
  {
   "cell_type": "markdown",
   "metadata": {},
   "source": [
    "## Medida de interesse\n",
    "Qual a probabilidade de pessoas casadas terem mais estabilidade?"
   ]
  },
  {
   "cell_type": "code",
   "execution_count": null,
   "metadata": {},
   "outputs": [],
   "source": [
    "np.mean(trace['delta'] > 0)"
   ]
  },
  {
   "cell_type": "markdown",
   "metadata": {},
   "source": [
    "Com probabilidade 0.9996, pessoas solteiras ou divorciadas pedem mais demissão."
   ]
  },
  {
   "cell_type": "code",
   "execution_count": null,
   "metadata": {},
   "outputs": [],
   "source": [
    "np.mean(trace['delta'] < 0)"
   ]
  },
  {
   "cell_type": "markdown",
   "metadata": {},
   "source": [
    "## E se fizermos o mesmo para gênero?"
   ]
  },
  {
   "cell_type": "code",
   "execution_count": null,
   "metadata": {},
   "outputs": [],
   "source": [
    "filter_female = rh['Female']\n",
    "female = rh[filter_female]\n",
    "female.head()"
   ]
  },
  {
   "cell_type": "code",
   "execution_count": null,
   "metadata": {},
   "outputs": [],
   "source": [
    "male = rh[~filter_female]\n",
    "male.head()"
   ]
  },
  {
   "cell_type": "code",
   "execution_count": null,
   "metadata": {},
   "outputs": [],
   "source": [
    "with pm.Model() as model:\n",
    "    p_female = pm.Uniform('p_female', 0, 1)\n",
    "    p_male = pm.Uniform('p_male', 0, 1)\n",
    "\n",
    "    delta = pm.Deterministic('delta', p_male - p_female)\n",
    "\n",
    "    obs_female = pm.Bernoulli('obs_female', p_female, observed=female['Attrition'])\n",
    "    obs_male = pm.Bernoulli('obs_male', p_male, observed=male['Attrition'])\n",
    "\n",
    "    trace = pm.sample(5000, tune=1000)"
   ]
  },
  {
   "cell_type": "code",
   "execution_count": null,
   "metadata": {},
   "outputs": [],
   "source": [
    "az.summary(trace)"
   ]
  },
  {
   "cell_type": "code",
   "execution_count": null,
   "metadata": {},
   "outputs": [],
   "source": [
    "figsize(5, 5)\n",
    "az.plot_posterior(trace, var_names=['p_female', 'p_male']);"
   ]
  },
  {
   "cell_type": "code",
   "execution_count": null,
   "metadata": {},
   "outputs": [],
   "source": [
    "figsize(5, 5)\n",
    "az.plot_posterior(trace, var_names=['delta']);"
   ]
  },
  {
   "cell_type": "markdown",
   "metadata": {},
   "source": [
    "## Medida de interesse"
   ]
  },
  {
   "cell_type": "code",
   "execution_count": null,
   "metadata": {},
   "outputs": [],
   "source": [
    "np.mean(trace['delta'] > 0)"
   ]
  },
  {
   "cell_type": "markdown",
   "metadata": {},
   "source": [
    "Com probabilidade 0.866425, mulheres pedem mais demissão."
   ]
  },
  {
   "cell_type": "code",
   "execution_count": null,
   "metadata": {},
   "outputs": [],
   "source": [
    "np.mean(trace['delta'] < 0)"
   ]
  },
  {
   "cell_type": "markdown",
   "metadata": {},
   "source": [
    "# Desafio\n",
    "## Como podemos prever se alguém pedirá demissão?\n",
    "\n",
    "*************\n",
    "\n",
    "<img src=\"https://www.publicdomainpictures.net/download-picture.php?id=79857&check=5db7237139ee0bbb51bca6cdea3e9f51\" width=\"500\">\n",
    "\n",
    "*************\n"
   ]
  },
  {
   "cell_type": "markdown",
   "metadata": {},
   "source": [
    "# [Vamos rever os conceitos?](#Inferência-Bayesiana)"
   ]
  },
  {
   "cell_type": "code",
   "execution_count": null,
   "metadata": {},
   "outputs": [],
   "source": [
    "rh.columns"
   ]
  },
  {
   "cell_type": "code",
   "execution_count": null,
   "metadata": {},
   "outputs": [],
   "source": [
    "with pm.Model() as model:\n",
    "    pm.glm.GLM.from_formula('Attrition ~ Married + Female',\n",
    "                            rh, family=pm.families.Binomial())\n",
    "    trace = pm.sample(1000, tune=500, init='adapt_diag')"
   ]
  },
  {
   "cell_type": "code",
   "execution_count": null,
   "metadata": {},
   "outputs": [],
   "source": [
    "az.summary(trace)"
   ]
  },
  {
   "cell_type": "code",
   "execution_count": null,
   "metadata": {},
   "outputs": [],
   "source": [
    "figsize(5, 5)\n",
    "az.plot_posterior(trace);"
   ]
  },
  {
   "cell_type": "markdown",
   "metadata": {},
   "source": [
    "#### Como plotar nossa curva de decisão?"
   ]
  },
  {
   "cell_type": "code",
   "execution_count": null,
   "metadata": {},
   "outputs": [],
   "source": [
    "trace.varnames"
   ]
  },
  {
   "cell_type": "code",
   "execution_count": null,
   "metadata": {},
   "outputs": [],
   "source": [
    "from scipy.special import expit\n",
    "figsize(10, 8)\n",
    "\n",
    "lm = lambda x, sample: expit(sample['Intercept'] + \\\n",
    "                             sample['Married[T.True]'] * x + \\\n",
    "                             sample['Female[T.True]'])\n",
    "pm.plot_posterior_predictive_glm(trace, lm=lm, label='Female', color='red', linewidth='1', alpha=0.5)\n",
    "\n",
    "lm = lambda x, sample: expit(sample['Intercept'] + \\\n",
    "                             sample['Married[T.True]'] * x)\n",
    "pm.plot_posterior_predictive_glm(trace, lm=lm, label='Male', color='green', linewidth='1', alpha=0.5)\n",
    "\n",
    "plt.ylabel('Pr[Attrition]')\n",
    "plt.xlabel('Married')\n",
    "plt.legend()\n",
    "plt.ylim((0, 1));"
   ]
  },
  {
   "cell_type": "markdown",
   "metadata": {},
   "source": [
    "## Adicionando mais uma variável\n",
    "### OverTime"
   ]
  },
  {
   "cell_type": "code",
   "execution_count": null,
   "metadata": {},
   "outputs": [],
   "source": [
    "with pm.Model() as model:\n",
    "    pm.glm.GLM.from_formula('Attrition ~ Married + Female + OverTime',\n",
    "                            rh, family=pm.families.Binomial())\n",
    "    trace = pm.sample(2000, tune=1000, init='adapt_diag')"
   ]
  },
  {
   "cell_type": "code",
   "execution_count": null,
   "metadata": {},
   "outputs": [],
   "source": [
    "az.summary(trace)"
   ]
  },
  {
   "cell_type": "code",
   "execution_count": null,
   "metadata": {},
   "outputs": [],
   "source": [
    "az.plot_posterior(trace);"
   ]
  },
  {
   "cell_type": "code",
   "execution_count": null,
   "metadata": {},
   "outputs": [],
   "source": [
    "from scipy.special import expit\n",
    "figsize(10, 8)\n",
    "\n",
    "lm = lambda x, sample: expit(sample['Intercept'] + \\\n",
    "                             sample['OverTime[T.True]'] * x + \\\n",
    "                             sample['Female[T.True]'])\n",
    "pm.plot_posterior_predictive_glm(trace, lm=lm, label='Female', color='red', linewidth='1', alpha=0.5)\n",
    "\n",
    "lm = lambda x, sample: expit(sample['Intercept'] + \\\n",
    "                             sample['OverTime[T.True]'] * x)\n",
    "pm.plot_posterior_predictive_glm(trace, lm=lm, label='Male', color='green', linewidth='1', alpha=0.5)\n",
    "\n",
    "plt.ylabel('Pr[Attrition]')\n",
    "plt.xlabel('OverTime')\n",
    "plt.legend()\n",
    "plt.ylim((0, 1));"
   ]
  },
  {
   "cell_type": "markdown",
   "metadata": {},
   "source": [
    "## Adicionando mais uma variável\n",
    "### Age\n",
    "Antes, vamos escalar a variável 'Age'"
   ]
  },
  {
   "cell_type": "code",
   "execution_count": null,
   "metadata": {},
   "outputs": [],
   "source": [
    "rh['AgeNorm'] = (rh['Age'] - rh['Age'].min()) / (rh['Age'].max() - rh['Age'].min())\n",
    "rh.head()"
   ]
  },
  {
   "cell_type": "code",
   "execution_count": null,
   "metadata": {},
   "outputs": [],
   "source": [
    "with pm.Model() as model:\n",
    "    pm.glm.GLM.from_formula('Attrition ~ Married + Female + OverTime + AgeNorm',\n",
    "                            rh, family=pm.families.Binomial())\n",
    "    trace = pm.sample(5000, tune=1000, init='adapt_diag')"
   ]
  },
  {
   "cell_type": "code",
   "execution_count": null,
   "metadata": {},
   "outputs": [],
   "source": [
    "az.summary(trace);"
   ]
  },
  {
   "cell_type": "code",
   "execution_count": null,
   "metadata": {
    "scrolled": false
   },
   "outputs": [],
   "source": [
    "az.plot_posterior(trace);"
   ]
  },
  {
   "cell_type": "markdown",
   "metadata": {},
   "source": [
    "#### Quanto ser casado afeta a probabilidade de pedir demissão?"
   ]
  },
  {
   "cell_type": "code",
   "execution_count": null,
   "metadata": {},
   "outputs": [],
   "source": [
    "az.plot_posterior(np.exp(trace['Married[T.True]']));"
   ]
  },
  {
   "cell_type": "markdown",
   "metadata": {},
   "source": [
    "#### Quanto fazer hora extra afeta a probabilidade de pedir demissão?"
   ]
  },
  {
   "cell_type": "code",
   "execution_count": null,
   "metadata": {},
   "outputs": [],
   "source": [
    "az.plot_posterior(np.exp(trace['OverTime[T.True]']));"
   ]
  },
  {
   "cell_type": "markdown",
   "metadata": {},
   "source": [
    "### Como a idade afeta?\n",
    "\n",
    "- Mulheres\n",
    "- Casadas\n",
    "- Hora Extra (sim / não)"
   ]
  },
  {
   "cell_type": "code",
   "execution_count": null,
   "metadata": {
    "scrolled": false
   },
   "outputs": [],
   "source": [
    "figsize(10, 8)\n",
    "lm = lambda x, sample: expit(sample['Intercept'] + \\\n",
    "                             sample['Female[T.True]'] + \\\n",
    "                             sample['Married[T.True]'] + \\\n",
    "                             sample['OverTime[T.True]'] + \\\n",
    "                             sample['AgeNorm'] * x)\n",
    "pm.plot_posterior_predictive_glm(trace, lm=lm, color='red', label='OverTime')\n",
    "\n",
    "lm = lambda x, sample: expit(sample['Intercept'] + \\\n",
    "                             sample['Female[T.True]'] + \\\n",
    "                             sample['Married[T.True]'] + \\\n",
    "                             sample['AgeNorm'] * x)\n",
    "pm.plot_posterior_predictive_glm(trace, lm=lm, color='green', label='No OverTime');\n",
    "\n",
    "plt.ylabel('Pr[Attrition]')\n",
    "plt.xlabel('Age (norm)')\n",
    "plt.ylim((0, 1));\n",
    "plt.legend()"
   ]
  },
  {
   "cell_type": "markdown",
   "metadata": {},
   "source": [
    "### Como a idade afeta?\n",
    "\n",
    "- Mulheres\n",
    "- Solteiras ou Divorciadas\n",
    "- Hora Extra (sim / não)"
   ]
  },
  {
   "cell_type": "code",
   "execution_count": null,
   "metadata": {},
   "outputs": [],
   "source": [
    "figsize(10, 8)\n",
    "lm = lambda x, sample: expit(sample['Intercept'] + \\\n",
    "                             sample['Female[T.True]'] + \\\n",
    "                             sample['OverTime[T.True]'] + \\\n",
    "                             sample['AgeNorm'] * x)\n",
    "pm.plot_posterior_predictive_glm(trace, lm=lm, color='red', label='OverTime', linewidth=1, alpha=0.5)\n",
    "\n",
    "lm = lambda x, sample: expit(sample['Intercept'] + \\\n",
    "                             sample['Female[T.True]'] + \\\n",
    "                             sample['AgeNorm'] * x)\n",
    "pm.plot_posterior_predictive_glm(trace, lm=lm, color='green', label='No OverTime', linewidth=1, alpha=0.5)\n",
    "\n",
    "plt.ylabel('Pr[Attrition]')\n",
    "plt.xlabel('Age (norm)')\n",
    "plt.ylim((0, 1));\n",
    "plt.legend();"
   ]
  },
  {
   "cell_type": "code",
   "execution_count": null,
   "metadata": {},
   "outputs": [],
   "source": [
    "b_intercept = trace['Intercept'].mean()\n",
    "b_female = trace['Female[T.True]'].mean()\n",
    "b_married = trace['Married[T.True]'].mean()\n",
    "b_overtime = trace['OverTime[T.True]'].mean()\n",
    "b_age_norm = trace['AgeNorm'].mean()\n",
    "\n",
    "def attrition_prob(employee):\n",
    "    return expit(b_intercept + \\\n",
    "                 employee['Female'] * b_female + \\\n",
    "                 employee['Married'] * b_married + \\\n",
    "                 employee['OverTime'] * b_overtime + \\\n",
    "                 employee['AgeNorm'] * b_age_norm)"
   ]
  },
  {
   "cell_type": "code",
   "execution_count": null,
   "metadata": {},
   "outputs": [],
   "source": [
    "rh['attrition_prob'] = rh.apply(attrition_prob, axis=1)\n",
    "rh.head()"
   ]
  },
  {
   "cell_type": "code",
   "execution_count": null,
   "metadata": {},
   "outputs": [],
   "source": [
    "((rh['attrition_prob'] >= 0.5) == rh['Attrition']).mean()"
   ]
  },
  {
   "cell_type": "markdown",
   "metadata": {},
   "source": [
    "# Exemplo\n",
    "## Vídeo sob Demanda"
   ]
  },
  {
   "cell_type": "code",
   "execution_count": null,
   "metadata": {},
   "outputs": [],
   "source": [
    "views_over_time = pd.read_csv('data/views_over_time.csv', index_col='date')\n",
    "num_days = len(views_over_time)\n",
    "views_over_time.head()"
   ]
  },
  {
   "cell_type": "code",
   "execution_count": null,
   "metadata": {},
   "outputs": [],
   "source": [
    "figsize(15, 5)\n",
    "views_over_time.plot(marker='o')"
   ]
  },
  {
   "cell_type": "code",
   "execution_count": null,
   "metadata": {},
   "outputs": [],
   "source": [
    "with pm.Model() as model:\n",
    "    alpha = 1.0 / views_over_time.views.mean()\n",
    "    lambda_1 = pm.Exponential(\"lambda_1\", alpha)\n",
    "    lambda_2 = pm.Exponential(\"lambda_2\", alpha)\n",
    "    \n",
    "    tau = pm.DiscreteUniform(\"tau\", lower=0, upper=num_days - 1)"
   ]
  },
  {
   "cell_type": "code",
   "execution_count": null,
   "metadata": {},
   "outputs": [],
   "source": [
    "with model:\n",
    "    idx = np.arange(num_days)\n",
    "    lambda_ = pm.math.switch(tau > idx, lambda_1, lambda_2)"
   ]
  },
  {
   "cell_type": "code",
   "execution_count": null,
   "metadata": {},
   "outputs": [],
   "source": [
    "az.summary(trace)"
   ]
  },
  {
   "cell_type": "code",
   "execution_count": null,
   "metadata": {},
   "outputs": [],
   "source": [
    "with model:\n",
    "    observation = pm.Poisson(\"obs\", lambda_, observed=views_over_time.views)"
   ]
  },
  {
   "cell_type": "code",
   "execution_count": null,
   "metadata": {},
   "outputs": [],
   "source": [
    "with model:\n",
    "    trace = pm.sample(10000, tune=5000)"
   ]
  },
  {
   "cell_type": "code",
   "execution_count": null,
   "metadata": {},
   "outputs": [],
   "source": [
    "figsize(5, 5)\n",
    "az.plot_posterior(trace);"
   ]
  },
  {
   "cell_type": "code",
   "execution_count": null,
   "metadata": {},
   "outputs": [],
   "source": [
    "az.summary(trace)"
   ]
  },
  {
   "cell_type": "code",
   "execution_count": null,
   "metadata": {},
   "outputs": [],
   "source": [
    "figsize(15, 5)\n",
    "views_over_time.plot(marker='o')\n",
    "plt.axvline(38, color='r');"
   ]
  },
  {
   "cell_type": "markdown",
   "metadata": {},
   "source": [
    "# GP"
   ]
  },
  {
   "cell_type": "code",
   "execution_count": null,
   "metadata": {},
   "outputs": [],
   "source": [
    "views_over_time_gp = pd.read_csv('data/views_over_time_gp.csv', index_col='date')\n",
    "num_days = len(views_over_time_gp)\n",
    "views_over_time_gp.head()"
   ]
  },
  {
   "cell_type": "code",
   "execution_count": null,
   "metadata": {
    "scrolled": true
   },
   "outputs": [],
   "source": [
    "figsize(15, 5)\n",
    "views_over_time_gp.plot(marker='o')"
   ]
  },
  {
   "cell_type": "code",
   "execution_count": null,
   "metadata": {},
   "outputs": [],
   "source": [
    "with pm.Model() as model:\n",
    "    alpha = 1.0 / views_over_time_gp.views.mean()\n",
    "    lambda_1 = pm.Exponential(\"lambda_1\", alpha)\n",
    "    lambda_2 = pm.Exponential(\"lambda_2\", alpha)\n",
    "    tau = pm.DiscreteUniform(\"tau\", lower=0, upper=num_days - 1)\n",
    "\n",
    "    idx = np.arange(num_days)\n",
    "    lambda_ = pm.math.switch(tau > idx, lambda_1, lambda_2)\n",
    "\n",
    "    observation = pm.Poisson(\"obs\", lambda_, observed=views_over_time_gp.views)\n",
    "    trace = pm.sample(20000, tune=5000)"
   ]
  },
  {
   "cell_type": "code",
   "execution_count": null,
   "metadata": {},
   "outputs": [],
   "source": [
    "figsize(5, 5)\n",
    "az.plot_posterior(trace);"
   ]
  },
  {
   "cell_type": "code",
   "execution_count": null,
   "metadata": {},
   "outputs": [],
   "source": [
    "az.summary(trace)"
   ]
  },
  {
   "cell_type": "code",
   "execution_count": null,
   "metadata": {
    "scrolled": true
   },
   "outputs": [],
   "source": [
    "tau_samples = pd.Series(trace['tau'])\n",
    "change_points = tau_samples.value_counts(normalize=True)\n",
    "change_points = change_points.sort_index()\n",
    "change_points"
   ]
  },
  {
   "cell_type": "code",
   "execution_count": null,
   "metadata": {},
   "outputs": [],
   "source": [
    "figsize(15, 5)\n",
    "views_over_time_gp.plot(marker='o')\n",
    "plt.ylabel('Number of views')\n",
    "change_points.plot(kind='area', alpha=0.3, style='r', secondary_y=True)\n",
    "plt.ylabel(r'Posterior of $\\tau$')\n",
    "plt.ylim((0, 0.6));"
   ]
  },
  {
   "cell_type": "code",
   "execution_count": null,
   "metadata": {},
   "outputs": [],
   "source": [
    "from IPython.core.display import HTML\n",
    "\n",
    "\n",
    "def css_styling():\n",
    "    styles = open(\"styles/custom.css\", \"r\").read()\n",
    "    return HTML(styles)\n",
    "css_styling()"
   ]
  },
  {
   "cell_type": "markdown",
   "metadata": {},
   "source": [
    "<a rel=\"license\" href=\"http://creativecommons.org/licenses/by-sa/4.0/\"><img alt=\"Licença Creative Commons\" style=\"border-width:0\" src=\"https://i.creativecommons.org/l/by-sa/4.0/88x31.png\" /></a><br />O trabalho <span xmlns:dct=\"http://purl.org/dc/terms/\" href=\"http://purl.org/dc/dcmitype/InteractiveResource\" property=\"dct:title\" rel=\"dct:type\">Notebook Small Data</span> de <span xmlns:cc=\"http://creativecommons.org/ns#\" property=\"cc:attributionName\">Gabriel Mendonça</span> está licenciado com uma Licença <a rel=\"license\" href=\"http://creativecommons.org/licenses/by-sa/4.0/\">Creative Commons - Atribuição-CompartilhaIgual 4.0 Internacional</a>."
   ]
  }
 ],
 "metadata": {
  "kernelspec": {
   "display_name": "Python 3",
   "language": "python",
   "name": "python3"
  },
  "language_info": {
   "codemirror_mode": {
    "name": "ipython",
    "version": 3
   },
   "file_extension": ".py",
   "mimetype": "text/x-python",
   "name": "python",
   "nbconvert_exporter": "python",
   "pygments_lexer": "ipython3",
   "version": "3.7.4"
  }
 },
 "nbformat": 4,
 "nbformat_minor": 2
}
